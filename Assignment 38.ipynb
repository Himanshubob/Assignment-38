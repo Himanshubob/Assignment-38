{
 "cells": [
  {
   "cell_type": "markdown",
   "id": "97c12d55",
   "metadata": {},
   "source": [
    "# Q1. Explain the difference between simple linear regression and multiple linear regression. Provide an example of each."
   ]
  },
  {
   "cell_type": "markdown",
   "id": "d4b041e8",
   "metadata": {},
   "source": [
    "# ans.. the simple linear regression is one independent input and one dependent out put \n",
    "# and the multiple linear regression  more than one indepentent input and one dependet output  \n",
    "# Ex.. x(input)={165cm,156cm,155cm,--------} and y(output)={34kg,78kg,54kg,------} x is the hight independent and y is the depndent \n",
    "# Ex.. x1 x2 x3...... many indepndent input and y only depndent "
   ]
  },
  {
   "cell_type": "markdown",
   "id": "ef50528d",
   "metadata": {},
   "source": [
    "# Q2. Discuss the assumptions of linear regression. How can you check whether these assumptions hold in a given dataset?"
   ]
  },
  {
   "cell_type": "markdown",
   "id": "a7592b15",
   "metadata": {},
   "source": [
    " # the linear regression cheak variance and basie and find the beast fit line  minimazing the error  "
   ]
  },
  {
   "cell_type": "markdown",
   "id": "56319850",
   "metadata": {},
   "source": [
    " # Q3. How do you interpret the slope and intercept in a linear regression model? Provide an example using a real-world scenario."
   ]
  },
  {
   "cell_type": "markdown",
   "id": "4ba36942",
   "metadata": {},
   "source": [
    " # ans.. let  y=a+bx  the given simple linear regrssion equatio a= intercept and b =slope   and  x is the input value \n",
    " # Ex.. emploee salary any emplee salary star the mony number staring point is intercepet "
   ]
  },
  {
   "cell_type": "markdown",
   "id": "bbfd7b76",
   "metadata": {},
   "source": [
    "# Q4. Explain the concept of gradient descent. How is it used in machine learning?"
   ]
  },
  {
   "cell_type": "markdown",
   "id": "1cb9d8be",
   "metadata": {},
   "source": [
    "# ans..  Gradient descent is minimazing the error and  and creat the beast fit line the use of gradient descent learing low minimze tyhe error of the fuction "
   ]
  },
  {
   "cell_type": "markdown",
   "id": "13e2abcd",
   "metadata": {},
   "source": [
    "# Q5. Describe the multiple linear regression model. How does it differ from simple linear regression?"
   ]
  },
  {
   "cell_type": "markdown",
   "id": "d32f65b8",
   "metadata": {},
   "source": [
    "# ans multple linear regression model more then 1 input  and 1 output using the multple linearregression  sovle the big data set esaly \n",
    "# simple linear regression solve only one feature  but multiple linear solve the mjany feature  and simple linear regression use only strate line for fing  so model not working very well but multiple linear regression ues the many fit sape  depnedend on degerr\n"
   ]
  },
  {
   "cell_type": "markdown",
   "id": "bd92b585",
   "metadata": {},
   "source": [
    " # Q6. Explain the concept of multicollinearity in multiple linear regression. How can you detect and address this issue?"
   ]
  },
  {
   "cell_type": "markdown",
   "id": "46b72af0",
   "metadata": {},
   "source": [
    " # ans..Multicollinearity in multiple linear regression is a situation where two or more independent variables are highly correlated with each other, meaning that they do not provide unique or independent information to the model. This can cause problems such as:\n",
    "\n",
    "# The coefficient estimates can change drastically depending on which other variables are included in the model.\n",
    "# The coefficient estimates can have high standard errors and low t-values, making them unreliable and insignificant.\n",
    "# The overall fit of the model can be misleading, as the R-squared value can be inflated by the presence of multicollinearity."
   ]
  },
  {
   "cell_type": "markdown",
   "id": "f0bbff22",
   "metadata": {},
   "source": [
    "# Q7. Describe the polynomial regression model. How is it different from linear regression?"
   ]
  },
  {
   "cell_type": "markdown",
   "id": "b6e09e8b",
   "metadata": {},
   "source": [
    "# A polynomial regression model is a form of regression analysis in which the relationship between the independent variable x and the dependent variable y is modeled as an nth-degree polynomial in x. For example, a polynomial regression model of degree 2 can be written as:\n",
    "\n",
    "# y = b0 + b1x + b2x^2 + e\n",
    "\n",
    "# where y is the response variable, x is the predictor variable, b0, b1, and b2 are the coefficients, and e is the error term.\n",
    "\n",
    "# A polynomial regression model is different from a linear regression model in that it can capture the non-linear relationship between x and y, which a linear model cannot. A linear regression model assumes that y is a linear function of x, which means that the slope of the regression line is constant. A polynomial regression model allows the slope of the regression line to vary depending on the value of x, which means that it can fit curved or wavy patterns in the dat"
   ]
  },
  {
   "cell_type": "markdown",
   "id": "6e3e65d4",
   "metadata": {},
   "source": [
    "# Q8. What are the advantages and disadvantages of polynomial regression compared to linear regression? In what situations would you prefer to use polynomial regression?"
   ]
  },
  {
   "cell_type": "markdown",
   "id": "f6f0fd44",
   "metadata": {},
   "source": [
    "# Advantages:\n",
    "# Polynomial regression can capture the non-linear relationship between the independent and dependent variables, which linear regression cannot.\n",
    "# Polynomial regression can fit curved or wavy patterns in the data, which linear regression cannot.\n",
    "# Disadvantages:\n",
    "# Polynomial regression can suffer from overfitting or underfitting problems, depending on the degree of the polynomial and the amount of data available.\n",
    "# Polynomial regression can have high variance and low bias, or low variance and high bias, depending on the degree of the polynomial"
   ]
  },
  {
   "cell_type": "code",
   "execution_count": null,
   "id": "31218f32",
   "metadata": {},
   "outputs": [],
   "source": []
  }
 ],
 "metadata": {
  "kernelspec": {
   "display_name": "Python 3 (ipykernel)",
   "language": "python",
   "name": "python3"
  },
  "language_info": {
   "codemirror_mode": {
    "name": "ipython",
    "version": 3
   },
   "file_extension": ".py",
   "mimetype": "text/x-python",
   "name": "python",
   "nbconvert_exporter": "python",
   "pygments_lexer": "ipython3",
   "version": "3.10.9"
  }
 },
 "nbformat": 4,
 "nbformat_minor": 5
}
